{
 "cells": [
  {
   "cell_type": "code",
   "execution_count": null,
   "id": "6e04e540",
   "metadata": {},
   "outputs": [],
   "source": [
    "# 2 - EDA\n"
   ]
  }
 ],
 "metadata": {
  "language_info": {
   "name": "python"
  }
 },
 "nbformat": 4,
 "nbformat_minor": 5
}
