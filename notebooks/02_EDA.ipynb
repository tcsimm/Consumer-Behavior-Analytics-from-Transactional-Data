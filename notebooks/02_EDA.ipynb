{
 "cells": [
  {
   "cell_type": "code",
   "execution_count": 1,
   "id": "6e04e540",
   "metadata": {},
   "outputs": [],
   "source": [
    "# 2 - EDA\n",
    "\n",
    "# Import necessary libraries\n",
    "import pandas as pd"
   ]
  },
  {
   "cell_type": "code",
   "execution_count": null,
   "id": "25b67c68",
   "metadata": {},
   "outputs": [],
   "source": [
    "# Read cleaned csv file\n",
    "df = pd.read_csv(\"/Users/thomassimmons/c/td/data/dirty_cafe_sales_cleaned.csv\")"
   ]
  }
 ],
 "metadata": {
  "kernelspec": {
   "display_name": "base",
   "language": "python",
   "name": "python3"
  },
  "language_info": {
   "codemirror_mode": {
    "name": "ipython",
    "version": 3
   },
   "file_extension": ".py",
   "mimetype": "text/x-python",
   "name": "python",
   "nbconvert_exporter": "python",
   "pygments_lexer": "ipython3",
   "version": "3.12.4"
  }
 },
 "nbformat": 4,
 "nbformat_minor": 5
}
