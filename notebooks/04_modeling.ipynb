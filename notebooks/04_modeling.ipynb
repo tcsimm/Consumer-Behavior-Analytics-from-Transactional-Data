{
 "cells": [
  {
   "cell_type": "code",
   "execution_count": 4,
   "id": "df6b4685",
   "metadata": {},
   "outputs": [],
   "source": [
    "# 4 - modeling\n",
    "\n",
    "# Import libraries\n",
    "from sklearn.model_selection import train_test_split\n",
    "from sklearn.linear_model import LinearRegression\n",
    "\n",
    "import pandas as pd\n",
    "\n",
    "# Read csv\n",
    "df = pd.read_csv(\"/Users/thomassimmons/c/td/data/df_encoded.csv\")"
   ]
  },
  {
   "cell_type": "code",
   "execution_count": 9,
   "id": "b9c87faa",
   "metadata": {},
   "outputs": [],
   "source": [
    "# Create x and y\n",
    "X = df.drop(['Total Spent'], axis=1)\n",
    "y = df['Total Spent']\n",
    "\n",
    "X_train, X_test, y_train, y_test = train_test_split(X, y, test_size=0.2, random_state=42)"
   ]
  }
 ],
 "metadata": {
  "kernelspec": {
   "display_name": "base",
   "language": "python",
   "name": "python3"
  },
  "language_info": {
   "codemirror_mode": {
    "name": "ipython",
    "version": 3
   },
   "file_extension": ".py",
   "mimetype": "text/x-python",
   "name": "python",
   "nbconvert_exporter": "python",
   "pygments_lexer": "ipython3",
   "version": "3.12.4"
  }
 },
 "nbformat": 4,
 "nbformat_minor": 5
}
