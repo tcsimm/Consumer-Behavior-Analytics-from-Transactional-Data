{
 "cells": [
  {
   "cell_type": "code",
   "execution_count": 1,
   "id": "ba607e91",
   "metadata": {},
   "outputs": [],
   "source": [
    "# 6 - SQL analysis\n",
    "\n",
    "# Import libraries\n",
    "import pandas as pd\n",
    "import sqlite3\n",
    "\n",
    "df = pd.read_csv(\"/Users/thomassimmons/c/td/data/dirty_cafe_sales_cleaned.csv\")"
   ]
  },
  {
   "cell_type": "code",
   "execution_count": 2,
   "id": "8b464955",
   "metadata": {},
   "outputs": [],
   "source": [
    "# Create an in-memory SQL db\n",
    "conn = sqlite3.connect(\":memory:\")"
   ]
  },
  {
   "cell_type": "code",
   "execution_count": 3,
   "id": "cb016e3e",
   "metadata": {},
   "outputs": [
    {
     "data": {
      "text/plain": [
       "3089"
      ]
     },
     "execution_count": 3,
     "metadata": {},
     "output_type": "execute_result"
    }
   ],
   "source": [
    "# Load data\n",
    "df.to_sql(\"sales\", conn, index=False, if_exists='replace')"
   ]
  },
  {
   "cell_type": "code",
   "execution_count": 4,
   "id": "c8fced61",
   "metadata": {},
   "outputs": [],
   "source": [
    "# Create a cursor\n",
    "cursor = conn.cursor()"
   ]
  },
  {
   "cell_type": "code",
   "execution_count": 5,
   "id": "01f7073e",
   "metadata": {},
   "outputs": [
    {
     "name": "stdout",
     "output_type": "stream",
     "text": [
      "Total Revenue:    total_revenue\n",
      "0        27605.5\n"
     ]
    }
   ],
   "source": [
    "# 1. Total revenue\n",
    "query1 = \"SELECT SUM([Total Spent]) AS total_revenue FROM sales\"\n",
    "print(\"Total Revenue:\", pd.read_sql(query1, conn))"
   ]
  },
  {
   "cell_type": "code",
   "execution_count": 6,
   "id": "b1e729de",
   "metadata": {},
   "outputs": [
    {
     "name": "stdout",
     "output_type": "stream",
     "text": [
      "\n",
      "Top 5 Best-Selling Items:\n",
      "        Item  total_sold\n",
      "0     Salad      1272.0\n",
      "1     Juice      1245.0\n",
      "2  Sandwich      1193.0\n",
      "3      Cake      1173.0\n",
      "4    Cookie      1163.0\n"
     ]
    }
   ],
   "source": [
    "# 2. Top 5 best-selling items\n",
    "query2 = \"\"\"\n",
    "SELECT Item, SUM(Quantity) AS total_sold\n",
    "FROM sales\n",
    "GROUP BY Item\n",
    "ORDER BY total_sold DESC\n",
    "LIMIT 5\n",
    "\"\"\"\n",
    "print(\"\\nTop 5 Best-Selling Items:\\n\", pd.read_sql(query2, conn))"
   ]
  },
  {
   "cell_type": "code",
   "execution_count": 8,
   "id": "fb5a1029",
   "metadata": {},
   "outputs": [
    {
     "name": "stdout",
     "output_type": "stream",
     "text": [
      "\n",
      "Monthly Revenue:\n",
      "       Month  monthly_revenue\n",
      "0   2023-01           2749.0\n",
      "1   2023-02           2219.5\n",
      "2   2023-03           2240.0\n",
      "3   2023-04           2275.5\n",
      "4   2023-05           1844.5\n",
      "5   2023-06           2281.5\n",
      "6   2023-07           2307.0\n",
      "7   2023-08           2328.5\n",
      "8   2023-09           2426.5\n",
      "9   2023-10           2309.5\n",
      "10  2023-11           2397.0\n",
      "11  2023-12           2227.0\n"
     ]
    }
   ],
   "source": [
    "# 3. Monthly revenue\n",
    "query3 = \"\"\"\n",
    "SELECT Month, SUM([Total Spent]) AS monthly_revenue\n",
    "FROM sales\n",
    "GROUP BY Month\n",
    "ORDER BY Month\n",
    "\"\"\"\n",
    "print(\"\\nMonthly Revenue:\\n\", pd.read_sql(query3, conn))"
   ]
  },
  {
   "cell_type": "code",
   "execution_count": 9,
   "id": "b3b8a6ad",
   "metadata": {},
   "outputs": [
    {
     "name": "stdout",
     "output_type": "stream",
     "text": [
      "\n",
      "Revenue by Location:\n",
      "    Location  revenue\n",
      "0  In-store  14110.5\n",
      "1  Takeaway  13495.0\n"
     ]
    }
   ],
   "source": [
    "# 4. Revenue by location\n",
    "query4 = \"\"\"\n",
    "SELECT Location, SUM([Total Spent]) AS revenue\n",
    "FROM sales\n",
    "GROUP BY Location\n",
    "ORDER BY revenue DESC\n",
    "\"\"\"\n",
    "print(\"\\nRevenue by Location:\\n\", pd.read_sql(query4, conn))"
   ]
  },
  {
   "cell_type": "code",
   "execution_count": 10,
   "id": "ef578f21",
   "metadata": {},
   "outputs": [
    {
     "name": "stdout",
     "output_type": "stream",
     "text": [
      "\n",
      "Payment Method Usage:\n",
      "    Payment Method  uses\n",
      "0  Digital Wallet  1069\n",
      "1            Cash  1018\n",
      "2     Credit Card  1002\n"
     ]
    }
   ],
   "source": [
    "# 5. Payment method usage\n",
    "query5 = \"\"\"\n",
    "SELECT [Payment Method], COUNT(*) AS uses\n",
    "FROM sales\n",
    "GROUP BY [Payment Method]\n",
    "ORDER BY uses DESC\n",
    "\"\"\"\n",
    "print(\"\\nPayment Method Usage:\\n\", pd.read_sql(query5, conn))"
   ]
  },
  {
   "cell_type": "code",
   "execution_count": 11,
   "id": "07e97f67",
   "metadata": {},
   "outputs": [],
   "source": [
    "# Close the connection\n",
    "conn.close()"
   ]
  }
 ],
 "metadata": {
  "kernelspec": {
   "display_name": "base",
   "language": "python",
   "name": "python3"
  },
  "language_info": {
   "codemirror_mode": {
    "name": "ipython",
    "version": 3
   },
   "file_extension": ".py",
   "mimetype": "text/x-python",
   "name": "python",
   "nbconvert_exporter": "python",
   "pygments_lexer": "ipython3",
   "version": "3.12.4"
  }
 },
 "nbformat": 4,
 "nbformat_minor": 5
}
