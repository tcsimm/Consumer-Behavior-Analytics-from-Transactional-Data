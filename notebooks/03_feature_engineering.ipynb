{
 "cells": [
  {
   "cell_type": "code",
   "execution_count": 2,
   "id": "91edd8f3",
   "metadata": {},
   "outputs": [],
   "source": [
    "# 3 - Feature Engineering\n",
    "\n",
    "# Import necessary libraries\n",
    "import pandas as pd\n",
    "\n",
    "# Read csv\n",
    "df = pd.read_csv(\"/Users/thomassimmons/c/td/data/dirty_cafe_sales_cleaned.csv\")"
   ]
  },
  {
   "cell_type": "code",
   "execution_count": null,
   "id": "72b65154",
   "metadata": {},
   "outputs": [
    {
     "data": {
      "text/plain": [
       "Unnamed: 0            int64\n",
       "Transaction ID       object\n",
       "Item                 object\n",
       "Quantity            float64\n",
       "Price Per Unit      float64\n",
       "Total Spent         float64\n",
       "Payment Method       object\n",
       "Location             object\n",
       "Transaction Date     object\n",
       "Month                object\n",
       "dtype: object"
      ]
     },
     "execution_count": 5,
     "metadata": {},
     "output_type": "execute_result"
    }
   ],
   "source": [
    "# Check data types\n",
    "df.dtypes"
   ]
  },
  {
   "cell_type": "code",
   "execution_count": 9,
   "id": "09c4401e",
   "metadata": {},
   "outputs": [],
   "source": [
    "# Convert month to datetime\n",
    "df['Month'] = pd.to_datetime(df['Month'])\n",
    "\n",
    "# Create new year column\n",
    "df['Month_num'] = df['Month'].dt.month\n",
    "df['Year'] = df['Month'].dt.year"
   ]
  },
  {
   "cell_type": "code",
   "execution_count": 10,
   "id": "369fc732",
   "metadata": {},
   "outputs": [],
   "source": [
    "# One-hot encode Location and Payment Method\n",
    "df_encoded = pd.get_dummies(df, columns=['Location', 'Payment Method'], drop_first=True)"
   ]
  },
  {
   "cell_type": "code",
   "execution_count": 14,
   "id": "fac018dc",
   "metadata": {},
   "outputs": [
    {
     "data": {
      "text/plain": [
       "0    2.0\n",
       "1    3.0\n",
       "2    2.0\n",
       "3    5.0\n",
       "4    4.0\n",
       "Name: Spent Per Item, dtype: float64"
      ]
     },
     "execution_count": 14,
     "metadata": {},
     "output_type": "execute_result"
    }
   ],
   "source": [
    "# Create an interaction feature\n",
    "df_encoded['Spent Per Item'] = df_encoded['Total Spent'] / df_encoded['Quantity']\n",
    "df_encoded['Spent Per Item'].head()"
   ]
  },
  {
   "cell_type": "code",
   "execution_count": 18,
   "id": "c51b2f40",
   "metadata": {},
   "outputs": [],
   "source": [
    "# Create aggregate features\n",
    "item_revenue = df.groupby('Item')['Total Spent'].sum().reset_index(name='Total_Item_Revenue')\n",
    "df_encoded = df_encoded.merge(item_revenue, on='Item', how='left')"
   ]
  }
 ],
 "metadata": {
  "kernelspec": {
   "display_name": "base",
   "language": "python",
   "name": "python3"
  },
  "language_info": {
   "codemirror_mode": {
    "name": "ipython",
    "version": 3
   },
   "file_extension": ".py",
   "mimetype": "text/x-python",
   "name": "python",
   "nbconvert_exporter": "python",
   "pygments_lexer": "ipython3",
   "version": "3.12.4"
  }
 },
 "nbformat": 4,
 "nbformat_minor": 5
}
